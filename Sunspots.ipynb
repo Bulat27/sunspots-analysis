{
 "cells": [
  {
   "cell_type": "code",
   "execution_count": null,
   "metadata": {},
   "outputs": [],
   "source": [
    "import numpy as np\n",
    "import matplotlib.pyplot as plt\n",
    "import pandas as pd\n",
    "from scipy.fft import fftfreq, rfft, irfft, rfftfreq"
   ]
  },
  {
   "cell_type": "markdown",
   "metadata": {},
   "source": [
    "# Load and center monthly Sunspots data"
   ]
  },
  {
   "cell_type": "code",
   "execution_count": null,
   "metadata": {},
   "outputs": [],
   "source": [
    "df_sunspots = pd.read_csv('Sunspots_observations.csv', skiprows=6)\n",
    "\n",
    "t_data = df_sunspots['Year CE.1'].dropna().to_numpy()\n",
    "data = df_sunspots['SNm'].dropna().to_numpy()"
   ]
  },
  {
   "cell_type": "code",
   "execution_count": null,
   "metadata": {},
   "outputs": [],
   "source": [
    "data_mean = np.mean(data)\n",
    "data -= data_mean\n",
    "print(data)"
   ]
  },
  {
   "cell_type": "markdown",
   "metadata": {},
   "source": [
    "# Finding and removing peaks iteratively"
   ]
  },
  {
   "cell_type": "code",
   "execution_count": null,
   "metadata": {},
   "outputs": [],
   "source": [
    "def find_and_remove_peaks(data, t, threshold):\n",
    "    # Compute the Fourier transform of the data\n",
    "    fft_data = rfft(data)\n",
    "    frequencies = rfftfreq(len(t), np.mean(np.diff(t)))\n",
    "\n",
    "    # Find the dominant frequency with the highest amplitude\n",
    "    dominant_index = np.argmax(np.abs(fft_data))\n",
    "    dominant_frequency = frequencies[dominant_index]\n",
    "    \n",
    "    # Calculate the magnitude of the dominant peak\n",
    "    magnitude = 2.0 * np.abs(fft_data[dominant_index]) / len(t)\n",
    "\n",
    "    # If the magnitude of the dominant peak is above the threshold, remove it from the data\n",
    "    if magnitude > threshold:\n",
    "        # Get the period, phase, B1 and B2 of the dominant peak\n",
    "        period = 1 / np.abs(dominant_frequency)\n",
    "        phase = (np.angle(fft_data[dominant_index]) - 2 * np.pi / period * t.min()) % (2 * np.pi)\n",
    "        B1 = magnitude * np.cos(phase)\n",
    "        B2 = -magnitude * np.sin(phase)\n",
    "\n",
    "       # Set the dominant frequency component to zero\n",
    "        fft_data[dominant_index] = 0\n",
    "        \n",
    "        # Reconstruct the data after removing the dominant peak\n",
    "        data_without_dominant = irfft(fft_data, n=len(data))\n",
    "        return data_without_dominant, magnitude, period, phase, B1, B2\n",
    "    else:\n",
    "        return data, None, None, None, None, None"
   ]
  },
  {
   "cell_type": "code",
   "execution_count": null,
   "metadata": {},
   "outputs": [],
   "source": [
    "# Set the threshold value to control which peaks to remove\n",
    "threshold = 5  # Adjust this threshold value as needed\n",
    "\n",
    "# Create a copy of the data to work with\n",
    "data_cleaned = data.copy()\n",
    "magnitudes = []\n",
    "periods = []\n",
    "phases = []\n",
    "B1_sequence = []\n",
    "B2_sequence = []"
   ]
  },
  {
   "cell_type": "code",
   "execution_count": null,
   "metadata": {},
   "outputs": [],
   "source": [
    "# Iteratively remove peaks based on the threshold\n",
    "counter = 0\n",
    "\n",
    "while True:\n",
    "    data_cleaned, magnitude, period, phase, B1, B2 = find_and_remove_peaks(data_cleaned, t_data, threshold)\n",
    "    counter += 1\n",
    "    if magnitude is None or counter == 16:\n",
    "        break  # No more significant peaks to remove\n",
    "    magnitudes.append(magnitude)\n",
    "    periods.append(period)\n",
    "    phases.append(phase)\n",
    "    B1_sequence.append(B1)\n",
    "    B2_sequence.append(B2)"
   ]
  },
  {
   "cell_type": "code",
   "execution_count": null,
   "metadata": {},
   "outputs": [],
   "source": [
    "# Print the extracted values for each significant peak\n",
    "print(\"Extracted Magnitudes:\", magnitudes)\n",
    "print(\"Extracted Periods:\", periods)\n",
    "print(\"Extracted Phases:\", phases)\n",
    "print(\"B1 values\", B1_sequence)\n",
    "print(\"B2 values\", B2_sequence)"
   ]
  },
  {
   "cell_type": "code",
   "execution_count": null,
   "metadata": {},
   "outputs": [],
   "source": [
    "# Plot the original data and the data after removing significant peaks\n",
    "plt.figure(figsize=(10, 6))\n",
    "plt.plot(t_data, data, label=\"Original Data\", lw=2)\n",
    "plt.plot(t_data, data_cleaned, label=\"Data After Removing Peaks\", lw=2)\n",
    "plt.xlabel(\"Time (months)\")\n",
    "plt.ylabel(\"Sunspot Data\")\n",
    "plt.legend()\n",
    "plt.show()"
   ]
  },
  {
   "cell_type": "markdown",
   "metadata": {},
   "source": [
    "# Generating model predictions and estimating the standard deviation of the noise"
   ]
  },
  {
   "cell_type": "code",
   "execution_count": null,
   "metadata": {},
   "outputs": [],
   "source": [
    "# Generate model predictions based on the stored parameters\n",
    "def generate_model_predictions(data, t_data, magnitudes, periods, phases):\n",
    "    model_predictions = np.zeros_like(data)\n",
    "\n",
    "    for A, T, phi in zip(magnitudes, periods, phases):\n",
    "        component = A * np.cos(2 * np.pi * t_data / T  + phi)\n",
    "        model_predictions += component\n",
    "\n",
    "    return model_predictions    "
   ]
  },
  {
   "cell_type": "markdown",
   "metadata": {},
   "source": [
    "Estimate the standard deviation of the noise"
   ]
  },
  {
   "cell_type": "code",
   "execution_count": null,
   "metadata": {},
   "outputs": [],
   "source": [
    "# Calculate the residuals (observed data - model predictions)\n",
    "model_predictions = generate_model_predictions(data, t_data, magnitudes, periods, phases)\n",
    "residuals = data - model_predictions\n",
    "\n",
    "# Estimate the noise standard deviation from the residuals\n",
    "estimated_noise_std = np.std(residuals)\n",
    "\n",
    "print(\"Estimated Noise Standard Deviation:\", estimated_noise_std)"
   ]
  },
  {
   "cell_type": "markdown",
   "metadata": {},
   "source": [
    "Plot the model predictions and the original data for comparison"
   ]
  },
  {
   "cell_type": "code",
   "execution_count": null,
   "metadata": {},
   "outputs": [],
   "source": [
    "plt.figure(figsize=(10, 6))\n",
    "plt.plot(t_data, data, label=\"Original Data\", lw=2)\n",
    "plt.plot(t_data, model_predictions, label=\"Model predictions\", lw=2)\n",
    "plt.xlabel(\"Time (months)\")\n",
    "plt.ylabel(\"Sunspot Data\")\n",
    "plt.legend()\n",
    "plt.show()"
   ]
  },
  {
   "cell_type": "markdown",
   "metadata": {},
   "source": [
    "Plot the residuals"
   ]
  },
  {
   "cell_type": "code",
   "execution_count": null,
   "metadata": {},
   "outputs": [],
   "source": [
    "plt.plot(t_data, residuals, label=\"Residuals\", lw=2)\n",
    "plt.show()"
   ]
  },
  {
   "cell_type": "markdown",
   "metadata": {},
   "source": [
    "The code below is used for checking the parameter values (if everything is okay)"
   ]
  },
  {
   "cell_type": "code",
   "execution_count": null,
   "metadata": {},
   "outputs": [],
   "source": [
    "for i in range(15):\n",
    "    print(f\"Iteration {i + 1}\")\n",
    "    print(f\"Period: {periods[i]}\")\n",
    "    print(f\"Magnitude: {magnitudes[i]}\")\n",
    "    print(f\"Phase: {phases[i]}\")\n",
    "    print(f\"B1: {B1_sequence[i]}, B2: {B2_sequence[i]}\")\n",
    "    print(\"\\n\")"
   ]
  },
  {
   "cell_type": "code",
   "execution_count": null,
   "metadata": {},
   "outputs": [],
   "source": [
    "print(len(magnitudes))"
   ]
  }
 ],
 "metadata": {
  "kernelspec": {
   "display_name": "base",
   "language": "python",
   "name": "python3"
  },
  "language_info": {
   "codemirror_mode": {
    "name": "ipython",
    "version": 3
   },
   "file_extension": ".py",
   "mimetype": "text/x-python",
   "name": "python",
   "nbconvert_exporter": "python",
   "pygments_lexer": "ipython3",
   "version": "3.11.3"
  },
  "orig_nbformat": 4
 },
 "nbformat": 4,
 "nbformat_minor": 2
}
